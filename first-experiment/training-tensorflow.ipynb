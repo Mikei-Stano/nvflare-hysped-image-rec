{
 "cells": [
  {
   "cell_type": "code",
   "execution_count": 2,
   "id": "2999e5e0-beef-4c84-ae4d-22f19b6e1ebc",
   "metadata": {},
   "outputs": [
    {
     "name": "stderr",
     "output_type": "stream",
     "text": [
      "\u001b[34m\u001b[1mwandb\u001b[0m: Using wandb-core as the SDK backend.  Please refer to https://wandb.me/wandb-core for more information.\n",
      "\u001b[34m\u001b[1mwandb\u001b[0m: \u001b[33mWARNING\u001b[0m If you're specifying your api key in code, ensure this code is not shared publicly.\n",
      "\u001b[34m\u001b[1mwandb\u001b[0m: \u001b[33mWARNING\u001b[0m Consider setting the WANDB_API_KEY environment variable, or running `wandb login` from the command line.\n",
      "\u001b[34m\u001b[1mwandb\u001b[0m: No netrc file found, creating one.\n",
      "\u001b[34m\u001b[1mwandb\u001b[0m: Appending key for api.wandb.ai to your netrc file: /root/.netrc\n",
      "\u001b[34m\u001b[1mwandb\u001b[0m: Currently logged in as: \u001b[33mhucko-miso\u001b[0m (\u001b[33mhysped\u001b[0m) to \u001b[32mhttps://api.wandb.ai\u001b[0m. Use \u001b[1m`wandb login --relogin`\u001b[0m to force relogin\n",
      "2025-02-26 07:58:51.965525: I tensorflow/compiler/xla/stream_executor/cuda/cuda_gpu_executor.cc:995] successful NUMA node read from SysFS had negative value (-1), but there must be at least one NUMA node, so returning NUMA node zero. See more at https://github.com/torvalds/linux/blob/v6.0/Documentation/ABI/testing/sysfs-bus-pci#L344-L355\n",
      "2025-02-26 07:58:51.981943: I tensorflow/compiler/xla/stream_executor/cuda/cuda_gpu_executor.cc:995] successful NUMA node read from SysFS had negative value (-1), but there must be at least one NUMA node, so returning NUMA node zero. See more at https://github.com/torvalds/linux/blob/v6.0/Documentation/ABI/testing/sysfs-bus-pci#L344-L355\n",
      "2025-02-26 07:58:51.982098: I tensorflow/compiler/xla/stream_executor/cuda/cuda_gpu_executor.cc:995] successful NUMA node read from SysFS had negative value (-1), but there must be at least one NUMA node, so returning NUMA node zero. See more at https://github.com/torvalds/linux/blob/v6.0/Documentation/ABI/testing/sysfs-bus-pci#L344-L355\n",
      "2025-02-26 07:58:51.983721: I tensorflow/compiler/xla/stream_executor/cuda/cuda_gpu_executor.cc:995] successful NUMA node read from SysFS had negative value (-1), but there must be at least one NUMA node, so returning NUMA node zero. See more at https://github.com/torvalds/linux/blob/v6.0/Documentation/ABI/testing/sysfs-bus-pci#L344-L355\n",
      "2025-02-26 07:58:51.983832: I tensorflow/compiler/xla/stream_executor/cuda/cuda_gpu_executor.cc:995] successful NUMA node read from SysFS had negative value (-1), but there must be at least one NUMA node, so returning NUMA node zero. See more at https://github.com/torvalds/linux/blob/v6.0/Documentation/ABI/testing/sysfs-bus-pci#L344-L355\n",
      "2025-02-26 07:58:51.983886: I tensorflow/compiler/xla/stream_executor/cuda/cuda_gpu_executor.cc:995] successful NUMA node read from SysFS had negative value (-1), but there must be at least one NUMA node, so returning NUMA node zero. See more at https://github.com/torvalds/linux/blob/v6.0/Documentation/ABI/testing/sysfs-bus-pci#L344-L355\n",
      "2025-02-26 07:58:52.032876: I tensorflow/compiler/xla/stream_executor/cuda/cuda_gpu_executor.cc:995] successful NUMA node read from SysFS had negative value (-1), but there must be at least one NUMA node, so returning NUMA node zero. See more at https://github.com/torvalds/linux/blob/v6.0/Documentation/ABI/testing/sysfs-bus-pci#L344-L355\n",
      "2025-02-26 07:58:52.033027: I tensorflow/compiler/xla/stream_executor/cuda/cuda_gpu_executor.cc:995] successful NUMA node read from SysFS had negative value (-1), but there must be at least one NUMA node, so returning NUMA node zero. See more at https://github.com/torvalds/linux/blob/v6.0/Documentation/ABI/testing/sysfs-bus-pci#L344-L355\n",
      "2025-02-26 07:58:52.033110: I tensorflow/compiler/xla/stream_executor/cuda/cuda_gpu_executor.cc:995] successful NUMA node read from SysFS had negative value (-1), but there must be at least one NUMA node, so returning NUMA node zero. See more at https://github.com/torvalds/linux/blob/v6.0/Documentation/ABI/testing/sysfs-bus-pci#L344-L355\n",
      "2025-02-26 07:58:52.033173: I tensorflow/core/common_runtime/gpu/gpu_device.cc:1639] Created device /job:localhost/replica:0/task:0/device:GPU:0 with 5274 MB memory:  -> device: 0, name: NVIDIA GeForce RTX 3070 Ti, pci bus id: 0000:01:00.0, compute capability: 8.6\n"
     ]
    },
    {
     "data": {
      "text/html": [
       "Tracking run with wandb version 0.19.7"
      ],
      "text/plain": [
       "<IPython.core.display.HTML object>"
      ]
     },
     "metadata": {},
     "output_type": "display_data"
    },
    {
     "data": {
      "text/html": [
       "Run data is saved locally in <code>/workspace/first-experiment/wandb/run-20250226_075852-4gl6i6x7</code>"
      ],
      "text/plain": [
       "<IPython.core.display.HTML object>"
      ]
     },
     "metadata": {},
     "output_type": "display_data"
    },
    {
     "data": {
      "text/html": [
       "Syncing run <strong><a href='https://wandb.ai/hysped/Test-project-mik/runs/4gl6i6x7' target=\"_blank\">test-project-mik</a></strong> to <a href='https://wandb.ai/hysped/Test-project-mik' target=\"_blank\">Weights & Biases</a> (<a href='https://wandb.me/developer-guide' target=\"_blank\">docs</a>)<br>"
      ],
      "text/plain": [
       "<IPython.core.display.HTML object>"
      ]
     },
     "metadata": {},
     "output_type": "display_data"
    },
    {
     "data": {
      "text/html": [
       " View project at <a href='https://wandb.ai/hysped/Test-project-mik' target=\"_blank\">https://wandb.ai/hysped/Test-project-mik</a>"
      ],
      "text/plain": [
       "<IPython.core.display.HTML object>"
      ]
     },
     "metadata": {},
     "output_type": "display_data"
    },
    {
     "data": {
      "text/html": [
       " View run at <a href='https://wandb.ai/hysped/Test-project-mik/runs/4gl6i6x7' target=\"_blank\">https://wandb.ai/hysped/Test-project-mik/runs/4gl6i6x7</a>"
      ],
      "text/plain": [
       "<IPython.core.display.HTML object>"
      ]
     },
     "metadata": {},
     "output_type": "display_data"
    },
    {
     "name": "stderr",
     "output_type": "stream",
     "text": [
      "\u001b[34m\u001b[1mwandb\u001b[0m: \u001b[33mWARNING\u001b[0m WandbCallback is deprecated and will be removed in a future release. Please use the WandbMetricsLogger, WandbModelCheckpoint, and WandbEvalCallback callbacks instead. See https://docs.wandb.ai/guides/integrations/keras for more information.\n",
      "\u001b[34m\u001b[1mwandb\u001b[0m: \u001b[33mWARNING\u001b[0m The save_model argument by default saves the model in the HDF5 format that cannot save custom objects like subclassed models and custom layers. This behavior will be deprecated in a future release in favor of the SavedModel format. Meanwhile, the HDF5 model is saved as W&B files and the SavedModel as W&B Artifacts.\n"
     ]
    },
    {
     "name": "stdout",
     "output_type": "stream",
     "text": [
      "(32950,)\n",
      "Epoch 1/10\n"
     ]
    },
    {
     "name": "stderr",
     "output_type": "stream",
     "text": [
      "2025-02-26 07:58:53.971547: I tensorflow/compiler/xla/stream_executor/cuda/cuda_dnn.cc:432] Loaded cuDNN version 8600\n",
      "2025-02-26 07:58:54.200934: I tensorflow/compiler/xla/stream_executor/cuda/cuda_blas.cc:606] TensorFloat-32 will be used for the matrix multiplication. This will only be logged once.\n",
      "2025-02-26 07:58:54.212580: I tensorflow/compiler/xla/service/service.cc:168] XLA service 0x728ed03c1d70 initialized for platform CUDA (this does not guarantee that XLA will be used). Devices:\n",
      "2025-02-26 07:58:54.212665: I tensorflow/compiler/xla/service/service.cc:176]   StreamExecutor device (0): NVIDIA GeForce RTX 3070 Ti, Compute Capability 8.6\n",
      "2025-02-26 07:58:54.217888: I tensorflow/compiler/mlir/tensorflow/utils/dump_mlir_util.cc:255] disabling MLIR crash reproducer, set env var `MLIR_CRASH_REPRODUCER_DIRECTORY` to enable.\n",
      "2025-02-26 07:58:54.309521: I ./tensorflow/compiler/jit/device_compiler.h:186] Compiled cluster using XLA!  This line is logged at most once for the lifetime of the process.\n"
     ]
    },
    {
     "name": "stdout",
     "output_type": "stream",
     "text": [
      "721/721 [==============================] - ETA: 0s - loss: 2.4342 - categorical_accuracy: 0.3090   "
     ]
    },
    {
     "name": "stderr",
     "output_type": "stream",
     "text": [
      "/usr/local/lib/python3.8/dist-packages/keras/src/engine/training.py:3000: UserWarning: You are saving your model as an HDF5 file via `model.save()`. This file format is considered legacy. We recommend using instead the native Keras format, e.g. `model.save('my_model.keras')`.\n",
      "  saving_api.save_model(\n"
     ]
    },
    {
     "name": "stdout",
     "output_type": "stream",
     "text": [
      "INFO:tensorflow:Assets written to: /workspace/first-experiment/wandb/run-20250226_075852-4gl6i6x7/files/model-best/assets\n"
     ]
    },
    {
     "name": "stderr",
     "output_type": "stream",
     "text": [
      "INFO:tensorflow:Assets written to: /workspace/first-experiment/wandb/run-20250226_075852-4gl6i6x7/files/model-best/assets\n",
      "\u001b[34m\u001b[1mwandb\u001b[0m: Adding directory to artifact (/workspace/first-experiment/wandb/run-20250226_075852-4gl6i6x7/files/model-best)... Done. 0.0s\n"
     ]
    },
    {
     "name": "stdout",
     "output_type": "stream",
     "text": [
      "721/721 [==============================] - 9s 9ms/step - loss: 2.4342 - categorical_accuracy: 0.3090 - val_loss: 2.5305 - val_categorical_accuracy: 0.2703\n",
      "Epoch 2/10\n",
      "716/721 [============================>.] - ETA: 0s - loss: 2.1025 - categorical_accuracy: 0.3608 "
     ]
    },
    {
     "name": "stderr",
     "output_type": "stream",
     "text": [
      "/usr/local/lib/python3.8/dist-packages/keras/src/engine/training.py:3000: UserWarning: You are saving your model as an HDF5 file via `model.save()`. This file format is considered legacy. We recommend using instead the native Keras format, e.g. `model.save('my_model.keras')`.\n",
      "  saving_api.save_model(\n"
     ]
    },
    {
     "name": "stdout",
     "output_type": "stream",
     "text": [
      "INFO:tensorflow:Assets written to: /workspace/first-experiment/wandb/run-20250226_075852-4gl6i6x7/files/model-best/assets\n"
     ]
    },
    {
     "name": "stderr",
     "output_type": "stream",
     "text": [
      "INFO:tensorflow:Assets written to: /workspace/first-experiment/wandb/run-20250226_075852-4gl6i6x7/files/model-best/assets\n",
      "\u001b[34m\u001b[1mwandb\u001b[0m: Adding directory to artifact (/workspace/first-experiment/wandb/run-20250226_075852-4gl6i6x7/files/model-best)... Done. 0.0s\n"
     ]
    },
    {
     "name": "stdout",
     "output_type": "stream",
     "text": [
      "721/721 [==============================] - 5s 7ms/step - loss: 2.1027 - categorical_accuracy: 0.3607 - val_loss: 2.0554 - val_categorical_accuracy: 0.3679\n",
      "Epoch 3/10\n",
      "714/721 [============================>.] - ETA: 0s - loss: 1.9691 - categorical_accuracy: 0.3931 "
     ]
    },
    {
     "name": "stderr",
     "output_type": "stream",
     "text": [
      "/usr/local/lib/python3.8/dist-packages/keras/src/engine/training.py:3000: UserWarning: You are saving your model as an HDF5 file via `model.save()`. This file format is considered legacy. We recommend using instead the native Keras format, e.g. `model.save('my_model.keras')`.\n",
      "  saving_api.save_model(\n"
     ]
    },
    {
     "name": "stdout",
     "output_type": "stream",
     "text": [
      "INFO:tensorflow:Assets written to: /workspace/first-experiment/wandb/run-20250226_075852-4gl6i6x7/files/model-best/assets\n"
     ]
    },
    {
     "name": "stderr",
     "output_type": "stream",
     "text": [
      "INFO:tensorflow:Assets written to: /workspace/first-experiment/wandb/run-20250226_075852-4gl6i6x7/files/model-best/assets\n",
      "\u001b[34m\u001b[1mwandb\u001b[0m: Adding directory to artifact (/workspace/first-experiment/wandb/run-20250226_075852-4gl6i6x7/files/model-best)... Done. 0.0s\n"
     ]
    },
    {
     "name": "stdout",
     "output_type": "stream",
     "text": [
      "721/721 [==============================] - 5s 7ms/step - loss: 1.9697 - categorical_accuracy: 0.3931 - val_loss: 1.9592 - val_categorical_accuracy: 0.4116\n",
      "Epoch 4/10\n",
      "716/721 [============================>.] - ETA: 0s - loss: 1.9152 - categorical_accuracy: 0.4072 "
     ]
    },
    {
     "name": "stderr",
     "output_type": "stream",
     "text": [
      "/usr/local/lib/python3.8/dist-packages/keras/src/engine/training.py:3000: UserWarning: You are saving your model as an HDF5 file via `model.save()`. This file format is considered legacy. We recommend using instead the native Keras format, e.g. `model.save('my_model.keras')`.\n",
      "  saving_api.save_model(\n"
     ]
    },
    {
     "name": "stdout",
     "output_type": "stream",
     "text": [
      "INFO:tensorflow:Assets written to: /workspace/first-experiment/wandb/run-20250226_075852-4gl6i6x7/files/model-best/assets\n"
     ]
    },
    {
     "name": "stderr",
     "output_type": "stream",
     "text": [
      "INFO:tensorflow:Assets written to: /workspace/first-experiment/wandb/run-20250226_075852-4gl6i6x7/files/model-best/assets\n",
      "\u001b[34m\u001b[1mwandb\u001b[0m: Adding directory to artifact (/workspace/first-experiment/wandb/run-20250226_075852-4gl6i6x7/files/model-best)... Done. 0.0s\n"
     ]
    },
    {
     "name": "stdout",
     "output_type": "stream",
     "text": [
      "721/721 [==============================] - 5s 7ms/step - loss: 1.9153 - categorical_accuracy: 0.4070 - val_loss: 1.9292 - val_categorical_accuracy: 0.3889\n",
      "Epoch 5/10\n",
      "721/721 [==============================] - 4s 6ms/step - loss: 1.8499 - categorical_accuracy: 0.4324 - val_loss: 2.0569 - val_categorical_accuracy: 0.3711\n",
      "Epoch 6/10\n",
      "710/721 [============================>.] - ETA: 0s - loss: 1.8266 - categorical_accuracy: 0.4434 "
     ]
    },
    {
     "name": "stderr",
     "output_type": "stream",
     "text": [
      "/usr/local/lib/python3.8/dist-packages/keras/src/engine/training.py:3000: UserWarning: You are saving your model as an HDF5 file via `model.save()`. This file format is considered legacy. We recommend using instead the native Keras format, e.g. `model.save('my_model.keras')`.\n",
      "  saving_api.save_model(\n"
     ]
    },
    {
     "name": "stdout",
     "output_type": "stream",
     "text": [
      "INFO:tensorflow:Assets written to: /workspace/first-experiment/wandb/run-20250226_075852-4gl6i6x7/files/model-best/assets\n"
     ]
    },
    {
     "name": "stderr",
     "output_type": "stream",
     "text": [
      "INFO:tensorflow:Assets written to: /workspace/first-experiment/wandb/run-20250226_075852-4gl6i6x7/files/model-best/assets\n",
      "\u001b[34m\u001b[1mwandb\u001b[0m: Adding directory to artifact (/workspace/first-experiment/wandb/run-20250226_075852-4gl6i6x7/files/model-best)... Done. 0.0s\n"
     ]
    },
    {
     "name": "stdout",
     "output_type": "stream",
     "text": [
      "721/721 [==============================] - 5s 7ms/step - loss: 1.8262 - categorical_accuracy: 0.4435 - val_loss: 1.8059 - val_categorical_accuracy: 0.4516\n",
      "Epoch 7/10\n",
      "721/721 [==============================] - 4s 5ms/step - loss: 1.7786 - categorical_accuracy: 0.4573 - val_loss: 2.0638 - val_categorical_accuracy: 0.3768\n",
      "Epoch 8/10\n",
      "721/721 [==============================] - 4s 6ms/step - loss: 1.7506 - categorical_accuracy: 0.4659 - val_loss: 2.2732 - val_categorical_accuracy: 0.3383\n",
      "Epoch 9/10\n",
      "721/721 [==============================] - 4s 5ms/step - loss: 1.7168 - categorical_accuracy: 0.4826 - val_loss: 1.9445 - val_categorical_accuracy: 0.4270\n",
      "Epoch 10/10\n",
      "721/721 [==============================] - 4s 5ms/step - loss: 1.6822 - categorical_accuracy: 0.4856 - val_loss: 2.0726 - val_categorical_accuracy: 0.4019\n",
      "Test Loss: 2.1082, Test Accuracy: 0.3856\n"
     ]
    },
    {
     "data": {
      "text/html": [],
      "text/plain": [
       "<IPython.core.display.HTML object>"
      ]
     },
     "metadata": {},
     "output_type": "display_data"
    },
    {
     "data": {
      "text/html": [
       "<br>    <style><br>        .wandb-row {<br>            display: flex;<br>            flex-direction: row;<br>            flex-wrap: wrap;<br>            justify-content: flex-start;<br>            width: 100%;<br>        }<br>        .wandb-col {<br>            display: flex;<br>            flex-direction: column;<br>            flex-basis: 100%;<br>            flex: 1;<br>            padding: 10px;<br>        }<br>    </style><br><div class=\"wandb-row\"><div class=\"wandb-col\"><h3>Run history:</h3><br/><table class=\"wandb\"><tr><td>categorical_accuracy</td><td>▁▃▄▅▆▆▇▇██</td></tr><tr><td>epoch</td><td>▁▂▃▃▄▅▆▆▇█</td></tr><tr><td>loss</td><td>█▅▄▃▃▂▂▂▁▁</td></tr><tr><td>test_accuracy</td><td>▁</td></tr><tr><td>test_loss</td><td>▁</td></tr><tr><td>val_categorical_accuracy</td><td>▁▅▆▆▅█▅▄▇▆</td></tr><tr><td>val_loss</td><td>█▃▂▂▃▁▃▆▂▄</td></tr></table><br/></div><div class=\"wandb-col\"><h3>Run summary:</h3><br/><table class=\"wandb\"><tr><td>best_epoch</td><td>5</td></tr><tr><td>best_val_loss</td><td>1.80593</td></tr><tr><td>categorical_accuracy</td><td>0.48563</td></tr><tr><td>epoch</td><td>9</td></tr><tr><td>loss</td><td>1.68216</td></tr><tr><td>test_accuracy</td><td>0.3856</td></tr><tr><td>test_loss</td><td>2.10821</td></tr><tr><td>val_categorical_accuracy</td><td>0.40186</td></tr><tr><td>val_loss</td><td>2.07259</td></tr></table><br/></div></div>"
      ],
      "text/plain": [
       "<IPython.core.display.HTML object>"
      ]
     },
     "metadata": {},
     "output_type": "display_data"
    },
    {
     "data": {
      "text/html": [
       " View run <strong style=\"color:#cdcd00\">test-project-mik</strong> at: <a href='https://wandb.ai/hysped/Test-project-mik/runs/4gl6i6x7' target=\"_blank\">https://wandb.ai/hysped/Test-project-mik/runs/4gl6i6x7</a><br> View project at: <a href='https://wandb.ai/hysped/Test-project-mik' target=\"_blank\">https://wandb.ai/hysped/Test-project-mik</a><br>Synced 5 W&B file(s), 1 media file(s), 26 artifact file(s) and 0 other file(s)"
      ],
      "text/plain": [
       "<IPython.core.display.HTML object>"
      ]
     },
     "metadata": {},
     "output_type": "display_data"
    },
    {
     "data": {
      "text/html": [
       "Find logs at: <code>./wandb/run-20250226_075852-4gl6i6x7/logs</code>"
      ],
      "text/plain": [
       "<IPython.core.display.HTML object>"
      ]
     },
     "metadata": {},
     "output_type": "display_data"
    }
   ],
   "source": [
    "import pandas as pd\n",
    "import numpy as np\n",
    "import tensorflow as tf\n",
    "from tensorflow.keras.utils import to_categorical\n",
    "\n",
    "import wandb\n",
    "from wandb.integration.keras import WandbCallback\n",
    "\n",
    "wandb.login(key=\"2a6d75e62c637b3c3f6f727ad4ebe3e85efe85be\")\n",
    " \n",
    "# Load dataset\n",
    "df = pd.read_csv(\"smaller_dataset.csv\")\n",
    " \n",
    "# Preprocess the dataset\n",
    "df_encoded = df.drop(columns=[df.columns[0]])  # Drop the first column\n",
    "X = df_encoded.drop(columns=[\"DRUH_POVR\", \"NAZ_LOKALI\"])  # Features\n",
    "y = df_encoded[\"DRUH_POVR\"]  # Target\n",
    " \n",
    "# Convert features to TensorFlow tensors\n",
    "X_tensor = tf.convert_to_tensor(X.to_numpy(), dtype=tf.float32)\n",
    " \n",
    "# Use TensorFlow StringLookup for label encoding\n",
    "label_lookup = tf.keras.layers.StringLookup(output_mode='int', vocabulary=tf.constant(y.unique()))\n",
    "y_tensor = label_lookup(y) - 1  # Adjust labels to start from 0\n",
    " \n",
    "# Create a TensorFlow Dataset\n",
    "num_classes = len(label_lookup.get_vocabulary()) - 1  # Adjust for 0-based indexing\n",
    "y_one_hot = tf.one_hot(y_tensor, depth=num_classes)\n",
    "dataset = tf.data.Dataset.from_tensor_slices((X_tensor, y_one_hot))\n",
    " \n",
    "# Shuffle the dataset\n",
    "dataset_size = len(y_tensor)\n",
    "dataset = dataset.shuffle(buffer_size=dataset_size, seed=42)\n",
    " \n",
    "# Split the dataset into train, validation, and test sets\n",
    "train_size = int(0.7 * dataset_size)\n",
    "val_size = int(0.15 * dataset_size)\n",
    "test_size = dataset_size - train_size - val_size\n",
    " \n",
    "train_dataset = dataset.take(train_size)\n",
    "remaining = dataset.skip(train_size)\n",
    "val_dataset = remaining.take(val_size)\n",
    "test_dataset = remaining.skip(val_size)\n",
    " \n",
    "# Batch the datasets for training, validation, and evaluation\n",
    "batch_size = 32\n",
    "train_dataset = train_dataset.batch(batch_size)\n",
    "val_dataset = val_dataset.batch(batch_size)\n",
    "test_dataset = test_dataset.batch(batch_size)\n",
    " \n",
    "# Determine the number of classes for the output layer\n",
    "# num_classes = len(label_lookup.get_vocabulary()) - 1  # Adjust for 0-based indexing\n",
    "y_encoded = y_tensor.numpy()\n",
    "y_categorical = to_categorical(y_encoded, num_classes=num_classes)\n",
    "#  Define the model\n",
    "# model = tf.keras.Sequential([\n",
    "#     tf.keras.layers.Dense(64, activation='relu', input_shape=(X.shape[1],)),  # Specify input shape\n",
    "#     tf.keras.layers.Dense(num_classes, activation='softmax'),  # Output layer\n",
    "# ])\n",
    " \n",
    " \n",
    " \n",
    "# Compile the model\n",
    "# model.compile(\n",
    "#     loss=tf.keras.losses.SparseCategoricalCrossentropy(), \n",
    "#     optimizer=tf.keras.optimizers.Adam(),\n",
    "#     metrics=['accuracy']  # Add accuracy as a metric\n",
    "# )\n",
    "\n",
    "wandb.init(\n",
    "    project=\"Test-project-mik\",  # Change this to your project name\n",
    "    name=\"test-project-mik\",  # Give a meaningful name\n",
    "    config={  # Log hyperparameters\n",
    "        \"epochs\": 10,\n",
    "        \"batch_size\": batch_size,\n",
    "        \"optimizer\": \"adam\",\n",
    "        \"loss\": \"categorical_crossentropy\",\n",
    "        \"architecture\": \"Conv1D\",\n",
    "        \"num_classes\": num_classes\n",
    "    }\n",
    ")\n",
    " \n",
    "input_shape=(*X.shape[1:],1)\n",
    "filters = [64, 32, 16]\n",
    "kernel_sizes=[9 for i in range(4)]\n",
    "padding='causal'\n",
    "print(y.shape)\n",
    "model = tf.keras.Sequential()\n",
    "model.add(\n",
    "    tf.keras.layers.Input(\n",
    "        shape=input_shape\n",
    "    )\n",
    ")\n",
    "model.add(\n",
    "    tf.keras.layers.BatchNormalization()\n",
    ")\n",
    " \n",
    "for f,k in zip(filters, kernel_sizes):\n",
    "    model.add(\n",
    "        tf.keras.layers.Conv1D(\n",
    "            filters=f,\n",
    "            kernel_size=k,\n",
    "            activation=tf.nn.relu,\n",
    "            padding=padding,\n",
    "            kernel_regularizer='l2'\n",
    "        )\n",
    "    )\n",
    "    model.add(\n",
    "        tf.keras.layers.BatchNormalization()\n",
    "    )\n",
    "    model.add(tf.keras.layers.ReLU())\n",
    " \n",
    "model.add(tf.keras.layers.GlobalAveragePooling1D())        \n",
    "model.add(tf.keras.layers.Dense(num_classes, activation='softmax'))\n",
    "model.compile(\n",
    "    optimizer='adam',\n",
    "    loss='categorical_crossentropy',\n",
    "    metrics=['categorical_accuracy']\n",
    ")\n",
    " \n",
    "# Train the model with a validation set\n",
    "history = model.fit(\n",
    "    train_dataset, \n",
    "    validation_data=val_dataset,  # Include validation set\n",
    "    epochs=10,  # Increased epochs for better training\n",
    "    verbose=1,  # Display progress\n",
    "    callbacks=[WandbCallback()]  # Log metrics automatically\n",
    ")\n",
    " \n",
    "# Evaluate the model on the test set\n",
    "test_loss, test_accuracy = model.evaluate(test_dataset, verbose=0)\n",
    "print(f\"Test Loss: {test_loss:.4f}, Test Accuracy: {test_accuracy:.4f}\")\n",
    "\n",
    "wandb.log({\n",
    "    \"test_loss\": test_loss,\n",
    "    \"test_accuracy\": test_accuracy\n",
    "})\n",
    "\n",
    "wandb.finish()  # End the wandb run\n"
   ]
  },
  {
   "cell_type": "code",
   "execution_count": 11,
   "id": "cec181c6-cf85-4986-b1d7-adabdf9ae89d",
   "metadata": {},
   "outputs": [
    {
     "data": {
      "text/plain": [
       "(32950,)"
      ]
     },
     "execution_count": 11,
     "metadata": {},
     "output_type": "execute_result"
    }
   ],
   "source": [
    "y.shape"
   ]
  },
  {
   "cell_type": "code",
   "execution_count": 15,
   "id": "429452c4-b5ae-4053-909e-669d356690d5",
   "metadata": {},
   "outputs": [
    {
     "data": {
      "text/plain": [
       "18"
      ]
     },
     "execution_count": 15,
     "metadata": {},
     "output_type": "execute_result"
    }
   ],
   "source": [
    "len(y.unique())"
   ]
  },
  {
   "cell_type": "code",
   "execution_count": 2,
   "id": "c5fec110-90c0-47c7-89cb-64cdccd5c004",
   "metadata": {},
   "outputs": [
    {
     "ename": "AttributeError",
     "evalue": "'_BatchDataset' object has no attribute 'shape'",
     "output_type": "error",
     "traceback": [
      "\u001b[0;31m---------------------------------------------------------------------------\u001b[0m",
      "\u001b[0;31mAttributeError\u001b[0m                            Traceback (most recent call last)",
      "Cell \u001b[0;32mIn[2], line 1\u001b[0m\n\u001b[0;32m----> 1\u001b[0m \u001b[43mtrain_dataset\u001b[49m\u001b[38;5;241;43m.\u001b[39;49m\u001b[43mshape\u001b[49m\n",
      "\u001b[0;31mAttributeError\u001b[0m: '_BatchDataset' object has no attribute 'shape'"
     ]
    }
   ],
   "source": [
    "train_dataset."
   ]
  },
  {
   "cell_type": "code",
   "execution_count": 1,
   "id": "e9cac6a7-29b2-407c-abbf-5f256991d344",
   "metadata": {},
   "outputs": [
    {
     "name": "stderr",
     "output_type": "stream",
     "text": [
      "2025-02-18 07:42:30.536476: I tensorflow/core/util/port.cc:110] oneDNN custom operations are on. You may see slightly different numerical results due to floating-point round-off errors from different computation orders. To turn them off, set the environment variable `TF_ENABLE_ONEDNN_OPTS=0`.\n",
      "2025-02-18 07:42:30.571586: I tensorflow/core/platform/cpu_feature_guard.cc:182] This TensorFlow binary is optimized to use available CPU instructions in performance-critical operations.\n",
      "To enable the following instructions: AVX2 AVX_VNNI FMA, in other operations, rebuild TensorFlow with the appropriate compiler flags.\n",
      "2025-02-18 07:42:31.133608: W tensorflow/compiler/tf2tensorrt/utils/py_utils.cc:38] TF-TRT Warning: Could not find TensorRT\n"
     ]
    },
    {
     "name": "stdout",
     "output_type": "stream",
     "text": [
      "GPUs are available: [PhysicalDevice(name='/physical_device:GPU:0', device_type='GPU')]\n"
     ]
    },
    {
     "name": "stderr",
     "output_type": "stream",
     "text": [
      "2025-02-18 07:42:31.669760: I tensorflow/compiler/xla/stream_executor/cuda/cuda_gpu_executor.cc:995] successful NUMA node read from SysFS had negative value (-1), but there must be at least one NUMA node, so returning NUMA node zero. See more at https://github.com/torvalds/linux/blob/v6.0/Documentation/ABI/testing/sysfs-bus-pci#L344-L355\n",
      "2025-02-18 07:42:31.751669: I tensorflow/compiler/xla/stream_executor/cuda/cuda_gpu_executor.cc:995] successful NUMA node read from SysFS had negative value (-1), but there must be at least one NUMA node, so returning NUMA node zero. See more at https://github.com/torvalds/linux/blob/v6.0/Documentation/ABI/testing/sysfs-bus-pci#L344-L355\n",
      "2025-02-18 07:42:31.751827: I tensorflow/compiler/xla/stream_executor/cuda/cuda_gpu_executor.cc:995] successful NUMA node read from SysFS had negative value (-1), but there must be at least one NUMA node, so returning NUMA node zero. See more at https://github.com/torvalds/linux/blob/v6.0/Documentation/ABI/testing/sysfs-bus-pci#L344-L355\n"
     ]
    }
   ],
   "source": [
    "import tensorflow as tf\n",
    "\n",
    "# List all physical devices of type 'GPU'\n",
    "gpus = tf.config.list_physical_devices('GPU')\n",
    "if gpus:\n",
    "    print(\"GPUs are available:\", gpus)\n",
    "else:\n",
    "    print(\"No GPU found. Using CPU.\")"
   ]
  },
  {
   "cell_type": "code",
   "execution_count": null,
   "id": "f196f569-8c6e-4af1-bf72-3de5b85a7319",
   "metadata": {},
   "outputs": [],
   "source": []
  }
 ],
 "metadata": {
  "kernelspec": {
   "display_name": "Python 3 (ipykernel)",
   "language": "python",
   "name": "python3"
  },
  "language_info": {
   "codemirror_mode": {
    "name": "ipython",
    "version": 3
   },
   "file_extension": ".py",
   "mimetype": "text/x-python",
   "name": "python",
   "nbconvert_exporter": "python",
   "pygments_lexer": "ipython3",
   "version": "3.8.10"
  }
 },
 "nbformat": 4,
 "nbformat_minor": 5
}
